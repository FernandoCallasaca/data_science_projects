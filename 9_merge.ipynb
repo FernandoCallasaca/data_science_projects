{
  "nbformat": 4,
  "nbformat_minor": 0,
  "metadata": {
    "colab": {
      "name": "9 merge.ipynb",
      "provenance": [],
      "authorship_tag": "ABX9TyOxEKNDcWgAotnaOM04at0v",
      "include_colab_link": true
    },
    "kernelspec": {
      "name": "python3",
      "display_name": "Python 3"
    },
    "language_info": {
      "name": "python"
    }
  },
  "cells": [
    {
      "cell_type": "markdown",
      "metadata": {
        "id": "view-in-github",
        "colab_type": "text"
      },
      "source": [
        "<a href=\"https://colab.research.google.com/github/FernandoCallasaca/data_science_projects/blob/main/9_merge.ipynb\" target=\"_parent\"><img src=\"https://colab.research.google.com/assets/colab-badge.svg\" alt=\"Open In Colab\"/></a>"
      ]
    },
    {
      "cell_type": "markdown",
      "source": [
        "# Preparamos nuestro lugar de trabajo"
      ],
      "metadata": {
        "id": "tdu9ZDG_NdDj"
      }
    },
    {
      "cell_type": "markdown",
      "source": [
        "## Drive"
      ],
      "metadata": {
        "id": "CDBc4rVgNgxP"
      }
    },
    {
      "cell_type": "code",
      "source": [
        "from google.colab import drive\n",
        "drive.mount('/content/drive')"
      ],
      "metadata": {
        "colab": {
          "base_uri": "https://localhost:8080/"
        },
        "id": "PceTXrRuNhyZ",
        "outputId": "c11a7104-0a90-4d70-c4c3-7770ccce8eed"
      },
      "execution_count": 1,
      "outputs": [
        {
          "output_type": "stream",
          "name": "stdout",
          "text": [
            "Mounted at /content/drive\n"
          ]
        }
      ]
    },
    {
      "cell_type": "code",
      "source": [
        "%cd '/content/drive/My Drive/Data Science/Platzi/10. Curso de Manipulación y Análisis de datos con Pandas y Python/db/'\n",
        "!ls"
      ],
      "metadata": {
        "colab": {
          "base_uri": "https://localhost:8080/"
        },
        "id": "pReg43VJNmcz",
        "outputId": "891dfdf1-3a41-423f-b8b0-ac34a7581acb"
      },
      "execution_count": 3,
      "outputs": [
        {
          "output_type": "stream",
          "name": "stdout",
          "text": [
            "/content/drive/My Drive/Data Science/Platzi/10. Curso de Manipulación y Análisis de datos con Pandas y Python/db\n",
            "london_merged.csv  Meteorite_Landings.csv  notas.csv  population-worldbank\n"
          ]
        }
      ]
    },
    {
      "cell_type": "code",
      "source": [
        "def path_file(name_file):\n",
        "  return '/content/drive/My Drive/Data Science/Platzi/10. Curso de Manipulación y Análisis de datos con Pandas y Python/db/{0}'.format(name_file)"
      ],
      "metadata": {
        "id": "TCFWtOr2Nuaa"
      },
      "execution_count": 4,
      "outputs": []
    },
    {
      "cell_type": "markdown",
      "source": [
        "## Librerías"
      ],
      "metadata": {
        "id": "ugGTefdON7K5"
      }
    },
    {
      "cell_type": "code",
      "source": [
        "import pandas as pd\n",
        "import numpy as np\n",
        "import seaborn as sn\n",
        "import matplotlib.pyplot as plt\n",
        "%matplotlib inline\n",
        "pd.__version__"
      ],
      "metadata": {
        "colab": {
          "base_uri": "https://localhost:8080/",
          "height": 35
        },
        "id": "zj3XQwqmN9SB",
        "outputId": "3f41eb57-cd4b-4168-8ba9-f2e5f2a128a7"
      },
      "execution_count": 6,
      "outputs": [
        {
          "output_type": "execute_result",
          "data": {
            "application/vnd.google.colaboratory.intrinsic+json": {
              "type": "string"
            },
            "text/plain": [
              "'1.1.5'"
            ]
          },
          "metadata": {},
          "execution_count": 6
        }
      ]
    },
    {
      "cell_type": "code",
      "source": [
        "pd.options.display.float_format = '{:,.2f}'.format"
      ],
      "metadata": {
        "id": "Gn1d7zJsOE1x"
      },
      "execution_count": 7,
      "outputs": []
    },
    {
      "cell_type": "code",
      "source": [
        "np.set_printoptions(precision = 2)"
      ],
      "metadata": {
        "id": "lX9iUtx3ON55"
      },
      "execution_count": 10,
      "outputs": []
    },
    {
      "cell_type": "code",
      "source": [
        ""
      ],
      "metadata": {
        "id": "kXi0Qg4YOiLi"
      },
      "execution_count": null,
      "outputs": []
    }
  ]
}