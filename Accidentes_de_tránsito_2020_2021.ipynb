{
  "nbformat": 4,
  "nbformat_minor": 0,
  "metadata": {
    "colab": {
      "name": "Accidentes de tránsito 2020-2021.ipynb",
      "provenance": [],
      "collapsed_sections": [],
      "authorship_tag": "ABX9TyOuq+JwwbotN5XmZcyALNwE",
      "include_colab_link": true
    },
    "kernelspec": {
      "name": "python3",
      "display_name": "Python 3"
    },
    "language_info": {
      "name": "python"
    }
  },
  "cells": [
    {
      "cell_type": "markdown",
      "metadata": {
        "id": "view-in-github",
        "colab_type": "text"
      },
      "source": [
        "<a href=\"https://colab.research.google.com/github/FernandoCallasaca/data_science_projects/blob/main/Accidentes_de_tr%C3%A1nsito_2020_2021.ipynb\" target=\"_parent\"><img src=\"https://colab.research.google.com/assets/colab-badge.svg\" alt=\"Open In Colab\"/></a>"
      ]
    },
    {
      "cell_type": "markdown",
      "source": [
        "# Preparamos nuestro entorno"
      ],
      "metadata": {
        "id": "ZvzCPtKztqQq"
      }
    },
    {
      "cell_type": "markdown",
      "source": [
        "## Drive"
      ],
      "metadata": {
        "id": "7syVB72xtyHc"
      }
    },
    {
      "cell_type": "code",
      "source": [
        "from google.colab import drive\n",
        "drive.mount('/content/drive')"
      ],
      "metadata": {
        "colab": {
          "base_uri": "https://localhost:8080/"
        },
        "id": "bwJdCJYttywU",
        "outputId": "75fee36c-097b-4e80-e857-f15fcbe293b5"
      },
      "execution_count": 1,
      "outputs": [
        {
          "output_type": "stream",
          "name": "stdout",
          "text": [
            "Mounted at /content/drive\n"
          ]
        }
      ]
    },
    {
      "cell_type": "code",
      "source": [
        "%cd '/content/drive/My Drive/Data Science/Proyectos/Accidentes de Tránsito 2020-2021/'\n",
        "!ls"
      ],
      "metadata": {
        "colab": {
          "base_uri": "https://localhost:8080/"
        },
        "id": "fAchqXbFt5zl",
        "outputId": "d7afc5c6-6d29-4335-beaa-b9fb0b5082e0"
      },
      "execution_count": 5,
      "outputs": [
        {
          "output_type": "stream",
          "name": "stdout",
          "text": [
            "/content/drive/My Drive/Data Science/Proyectos/Accidentes de Tránsito 2020-2021\n",
            "'Accidentes de tránsito 2020-2021.ipynb'\n",
            "'Accidentes de tránsito en carreteras-2020-2021-Sutran.csv'\n"
          ]
        }
      ]
    },
    {
      "cell_type": "code",
      "source": [
        "path_file = lambda name_file: '/content/drive/My Drive/Data Science/Proyectos/Accidentes de Tránsito 2020-2021/{}'.format(name_file)"
      ],
      "metadata": {
        "id": "T-BeJ0FJuCjU"
      },
      "execution_count": 6,
      "outputs": []
    },
    {
      "cell_type": "markdown",
      "source": [
        "## Librerías"
      ],
      "metadata": {
        "id": "DW7ddue4uRXW"
      }
    },
    {
      "cell_type": "code",
      "source": [
        "import pandas as pd\n",
        "import numpy as np\n",
        "import seaborn as sns\n",
        "import matplotlib.pyplot as plt\n",
        "%matplotlib inline"
      ],
      "metadata": {
        "id": "1n6NuvOCuUB7"
      },
      "execution_count": 7,
      "outputs": []
    },
    {
      "cell_type": "code",
      "source": [
        "pd.options.display.float_format = '{:,.3f}'.format"
      ],
      "metadata": {
        "id": "rlFHB7dGuhSF"
      },
      "execution_count": 8,
      "outputs": []
    },
    {
      "cell_type": "code",
      "source": [
        "np.set_printoptions(precision = 3)"
      ],
      "metadata": {
        "id": "fDeQ2twFunqF"
      },
      "execution_count": 9,
      "outputs": []
    },
    {
      "cell_type": "markdown",
      "source": [
        "# Leemos nuestro Dataset"
      ],
      "metadata": {
        "id": "b19eyJcZuqiF"
      }
    },
    {
      "cell_type": "code",
      "source": [
        ""
      ],
      "metadata": {
        "id": "4lVblmPbuuYl"
      },
      "execution_count": null,
      "outputs": []
    }
  ]
}