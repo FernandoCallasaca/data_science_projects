{
  "nbformat": 4,
  "nbformat_minor": 0,
  "metadata": {
    "colab": {
      "name": "8 concat append.ipynb",
      "provenance": [],
      "collapsed_sections": [],
      "authorship_tag": "ABX9TyNMlR1AGmd6cK989MC3hKSP",
      "include_colab_link": true
    },
    "kernelspec": {
      "name": "python3",
      "display_name": "Python 3"
    },
    "language_info": {
      "name": "python"
    }
  },
  "cells": [
    {
      "cell_type": "markdown",
      "metadata": {
        "id": "view-in-github",
        "colab_type": "text"
      },
      "source": [
        "<a href=\"https://colab.research.google.com/github/FernandoCallasaca/data_science_projects/blob/main/8_concat_append.ipynb\" target=\"_parent\"><img src=\"https://colab.research.google.com/assets/colab-badge.svg\" alt=\"Open In Colab\"/></a>"
      ]
    },
    {
      "cell_type": "markdown",
      "source": [
        "# Preparamos nuestro lugar de trabajo"
      ],
      "metadata": {
        "id": "-Jn-YXPEkbTU"
      }
    },
    {
      "cell_type": "markdown",
      "source": [
        "## Drive"
      ],
      "metadata": {
        "id": "vJ_pbFKpkfB3"
      }
    },
    {
      "cell_type": "code",
      "execution_count": 1,
      "metadata": {
        "colab": {
          "base_uri": "https://localhost:8080/"
        },
        "id": "6VU91Kybj4Cp",
        "outputId": "395da257-eb9d-48b4-f6cd-5613521466d8"
      },
      "outputs": [
        {
          "output_type": "stream",
          "name": "stdout",
          "text": [
            "Mounted at /content/drive\n"
          ]
        }
      ],
      "source": [
        "from google.colab import drive\n",
        "drive.mount('/content/drive')"
      ]
    },
    {
      "cell_type": "code",
      "source": [
        "%cd '/content/drive/My Drive/Data Science/Platzi/10. Curso de Manipulación y Análisis de datos con Pandas y Python/db/'\n",
        "!ls"
      ],
      "metadata": {
        "colab": {
          "base_uri": "https://localhost:8080/"
        },
        "id": "G7mosqiRj__y",
        "outputId": "9bb8ab7c-d68d-4d1b-ceb2-569313632cbd"
      },
      "execution_count": 3,
      "outputs": [
        {
          "output_type": "stream",
          "name": "stdout",
          "text": [
            "/content/drive/My Drive/Data Science/Platzi/10. Curso de Manipulación y Análisis de datos con Pandas y Python/db\n",
            "london_merged.csv  Meteorite_Landings.csv  notas.csv  population-worldbank\n"
          ]
        }
      ]
    },
    {
      "cell_type": "code",
      "source": [
        "def path_file(name_file):\n",
        "  return '/content/drive/My Drive/Data Science/Platzi/10. Curso de Manipulación y Análisis de datos con Pandas y Python/db/{0}'.format(name_file)"
      ],
      "metadata": {
        "id": "7yxyfTB7kPWp"
      },
      "execution_count": 4,
      "outputs": []
    },
    {
      "cell_type": "markdown",
      "source": [
        "## Librerías"
      ],
      "metadata": {
        "id": "7NsnOCCckZ15"
      }
    },
    {
      "cell_type": "code",
      "source": [
        "import pandas as pd\n",
        "import numpy as np\n",
        "import seaborn as sn\n",
        "import matplotlib.pyplot as plt\n",
        "%matplotlib inline\n",
        "pd.__version__"
      ],
      "metadata": {
        "colab": {
          "base_uri": "https://localhost:8080/",
          "height": 35
        },
        "id": "dNHYcwR8kiuw",
        "outputId": "f13b1374-e77b-4c70-eb20-02ee59b0228c"
      },
      "execution_count": 6,
      "outputs": [
        {
          "output_type": "execute_result",
          "data": {
            "application/vnd.google.colaboratory.intrinsic+json": {
              "type": "string"
            },
            "text/plain": [
              "'1.1.5'"
            ]
          },
          "metadata": {},
          "execution_count": 6
        }
      ]
    },
    {
      "cell_type": "code",
      "source": [
        "# para pandas = 2 decimales y seperación con , los miles\n",
        "pd.options.display.float_format = '{:,.2f}'.format"
      ],
      "metadata": {
        "id": "azMNdpcnk0Pk"
      },
      "execution_count": 8,
      "outputs": []
    },
    {
      "cell_type": "code",
      "source": [
        "# para numpy la presición en 2 decimales\n",
        "np.set_printoptions(precision=2)"
      ],
      "metadata": {
        "id": "Ln7SWxhIk8hx"
      },
      "execution_count": 9,
      "outputs": []
    },
    {
      "cell_type": "code",
      "source": [
        "# creamos una matriz de 2 por 5 con valores entre 0 y 100 aleatorios\n",
        "# rand = [0, 1]\n",
        "# randn = [-1, 1]\n",
        "x1 = np.random.rand(2,5)*10\n",
        "x1"
      ],
      "metadata": {
        "colab": {
          "base_uri": "https://localhost:8080/"
        },
        "id": "6dqhFEs4ltPZ",
        "outputId": "937b78e1-f1a7-485f-bfdf-9f5debacc021"
      },
      "execution_count": 18,
      "outputs": [
        {
          "output_type": "execute_result",
          "data": {
            "text/plain": [
              "array([[2.76, 5.74, 0.04, 9.87, 6.44],\n",
              "       [2.81, 8.8 , 8.11, 0.83, 7.45]])"
            ]
          },
          "metadata": {},
          "execution_count": 18
        }
      ]
    },
    {
      "cell_type": "code",
      "source": [
        "x2 = np.random.rand(2,5)*-1\n",
        "x2"
      ],
      "metadata": {
        "colab": {
          "base_uri": "https://localhost:8080/"
        },
        "id": "mVFCWDefmENi",
        "outputId": "cf14822b-f29f-4605-f3ce-1e65f83bf76b"
      },
      "execution_count": 19,
      "outputs": [
        {
          "output_type": "execute_result",
          "data": {
            "text/plain": [
              "array([[-0.9 , -0.56, -0.13, -0.13, -1.  ],\n",
              "       [-0.27, -0.57, -0.93, -0.05, -0.96]])"
            ]
          },
          "metadata": {},
          "execution_count": 19
        }
      ]
    },
    {
      "cell_type": "code",
      "source": [
        "# concatenamos matrices\n",
        "np.concatenate([x1,x2])"
      ],
      "metadata": {
        "colab": {
          "base_uri": "https://localhost:8080/"
        },
        "id": "beXuRUhxmhJQ",
        "outputId": "357df2fe-4b8f-4b20-beff-fc6f8673448e"
      },
      "execution_count": 20,
      "outputs": [
        {
          "output_type": "execute_result",
          "data": {
            "text/plain": [
              "array([[ 2.76,  5.74,  0.04,  9.87,  6.44],\n",
              "       [ 2.81,  8.8 ,  8.11,  0.83,  7.45],\n",
              "       [-0.9 , -0.56, -0.13, -0.13, -1.  ],\n",
              "       [-0.27, -0.57, -0.93, -0.05, -0.96]])"
            ]
          },
          "metadata": {},
          "execution_count": 20
        }
      ]
    },
    {
      "cell_type": "code",
      "source": [
        "np.concatenate([x1,x2]).shape"
      ],
      "metadata": {
        "colab": {
          "base_uri": "https://localhost:8080/"
        },
        "id": "r81Hh7sDnzuR",
        "outputId": "0433e274-976f-4b68-99ff-bbfbf4d8dfff"
      },
      "execution_count": 21,
      "outputs": [
        {
          "output_type": "execute_result",
          "data": {
            "text/plain": [
              "(4, 5)"
            ]
          },
          "metadata": {},
          "execution_count": 21
        }
      ]
    },
    {
      "cell_type": "code",
      "source": [
        "np.concatenate([x1,x2], axis = 1)"
      ],
      "metadata": {
        "colab": {
          "base_uri": "https://localhost:8080/"
        },
        "id": "lWpa2zl6n3Fo",
        "outputId": "5b8e10eb-65af-4592-f178-00876a9b5048"
      },
      "execution_count": 22,
      "outputs": [
        {
          "output_type": "execute_result",
          "data": {
            "text/plain": [
              "array([[ 2.76,  5.74,  0.04,  9.87,  6.44, -0.9 , -0.56, -0.13, -0.13,\n",
              "        -1.  ],\n",
              "       [ 2.81,  8.8 ,  8.11,  0.83,  7.45, -0.27, -0.57, -0.93, -0.05,\n",
              "        -0.96]])"
            ]
          },
          "metadata": {},
          "execution_count": 22
        }
      ]
    },
    {
      "cell_type": "code",
      "source": [
        "np.concatenate([x1,x2], axis = 1).shape"
      ],
      "metadata": {
        "colab": {
          "base_uri": "https://localhost:8080/"
        },
        "id": "Yg8r2pSPn76y",
        "outputId": "76365ff5-2bb4-4886-8db8-f49451293525"
      },
      "execution_count": 23,
      "outputs": [
        {
          "output_type": "execute_result",
          "data": {
            "text/plain": [
              "(2, 10)"
            ]
          },
          "metadata": {},
          "execution_count": 23
        }
      ]
    },
    {
      "cell_type": "code",
      "source": [
        ""
      ],
      "metadata": {
        "id": "0JPuFUxMn9qg"
      },
      "execution_count": null,
      "outputs": []
    }
  ]
}