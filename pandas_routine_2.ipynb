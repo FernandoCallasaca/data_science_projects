{
  "nbformat": 4,
  "nbformat_minor": 0,
  "metadata": {
    "colab": {
      "name": "pandas routine 2.ipynb",
      "provenance": [],
      "authorship_tag": "ABX9TyM5mrvuDvWeOytxawhdoOa5",
      "include_colab_link": true
    },
    "kernelspec": {
      "name": "python3",
      "display_name": "Python 3"
    },
    "language_info": {
      "name": "python"
    }
  },
  "cells": [
    {
      "cell_type": "markdown",
      "metadata": {
        "id": "view-in-github",
        "colab_type": "text"
      },
      "source": [
        "<a href=\"https://colab.research.google.com/github/FernandoCallasaca/data_science_projects/blob/main/pandas_routine_2.ipynb\" target=\"_parent\"><img src=\"https://colab.research.google.com/assets/colab-badge.svg\" alt=\"Open In Colab\"/></a>"
      ]
    },
    {
      "cell_type": "markdown",
      "source": [
        "# Links de los csv que trabajaremos"
      ],
      "metadata": {
        "id": "zxtubXj9J7Fv"
      }
    },
    {
      "cell_type": "markdown",
      "source": [
        "Temperature (°C) https://www.kaggle.com/berkeleyearth/climate-change-earth-surface-temperature-data#GlobalLandTemperaturesByCountry.csv\n",
        "\n",
        "Topic https://data.worldbank.org/topic/climate-change\n",
        "\n",
        "CO2 (kt) https://data.worldbank.org/indicator/EN.ATM.CO2E.KT\n",
        "\n",
        "Forest (km2) https://data.worldbank.org/indicator/AG.LND.FRST.K2\n",
        "\n",
        "Agricultura (km2) https://data.worldbank.org/indicator/AG.LND.AGRI.K2\n",
        "\n",
        "Population (7mM) https://data.worldbank.org/indicator/SP.POP.TOTL\n",
        "\n",
        "Electric power consumption (kWh per capita) https://data.worldbank.org/indicator/EG.USE.ELEC.KH.PC"
      ],
      "metadata": {
        "id": "Ic3dSryxHaXr"
      }
    },
    {
      "cell_type": "markdown",
      "source": [
        "# Preparamos nuestro entorno"
      ],
      "metadata": {
        "id": "q6FfpUVfHeH4"
      }
    },
    {
      "cell_type": "markdown",
      "source": [
        "## Drive"
      ],
      "metadata": {
        "id": "ndJoJGolHgZd"
      }
    },
    {
      "cell_type": "code",
      "source": [
        "from google.colab import drive\n",
        "drive.mount('/content/drive')"
      ],
      "metadata": {
        "colab": {
          "base_uri": "https://localhost:8080/"
        },
        "id": "nOE7oHqOKAnm",
        "outputId": "8a2f6153-6f6c-4c60-c06c-489176cfe82e"
      },
      "execution_count": 3,
      "outputs": [
        {
          "output_type": "stream",
          "name": "stdout",
          "text": [
            "Mounted at /content/drive\n"
          ]
        }
      ]
    },
    {
      "cell_type": "code",
      "source": [
        "%cd '/content/drive/My Drive/Data Science/Platzi/10. Curso de Manipulación y Análisis de datos con Pandas y Python/db/climate-change/'\n",
        "!ls"
      ],
      "metadata": {
        "colab": {
          "base_uri": "https://localhost:8080/"
        },
        "id": "FARh69xFKF6m",
        "outputId": "cb96b4f8-f5ab-4336-96e6-414ec6c1fc8b"
      },
      "execution_count": 6,
      "outputs": [
        {
          "output_type": "stream",
          "name": "stdout",
          "text": [
            "/content/drive/My Drive/Data Science/Platzi/10. Curso de Manipulación y Análisis de datos con Pandas y Python/db/climate-change\n",
            "API_AG.LND.AGRI.K2_DS2_en_csv_v2_3472200.csv\n",
            "API_AG.LND.FRST.K2_DS2_en_csv_v2_3470755.csv\n",
            "API_EG.USE.ELEC.KH.PC_DS2_en_csv_v2_3475310.csv\n",
            "API_EN.ATM.CO2E.KT_DS2_en_csv_v2_3470002.csv\n",
            "API_SP.POP.TOTL_DS2_en_csv_v2_3469297.csv\n"
          ]
        }
      ]
    },
    {
      "cell_type": "code",
      "source": [
        "path_file = lambda name_file: '/content/drive/My Drive/Data Science/Platzi/10. Curso de Manipulación y Análisis de datos con Pandas y Python/db/climate-change/{}'.format(name_file)"
      ],
      "metadata": {
        "id": "PAmHKlScKPS-"
      },
      "execution_count": 7,
      "outputs": []
    },
    {
      "cell_type": "markdown",
      "source": [
        "## Importamos Librerías"
      ],
      "metadata": {
        "id": "KTpC5MR0Kd5P"
      }
    },
    {
      "cell_type": "code",
      "source": [
        "import pandas as pd\n",
        "import numpy as np\n",
        "import seaborn as sns\n",
        "import matplotlib.pyplot as plt\n",
        "%matplotlib inline\n",
        "pd.__version__"
      ],
      "metadata": {
        "colab": {
          "base_uri": "https://localhost:8080/",
          "height": 35
        },
        "id": "qVEau4uJKidk",
        "outputId": "74436cc6-5df3-4112-f512-c98602505b5c"
      },
      "execution_count": 9,
      "outputs": [
        {
          "output_type": "execute_result",
          "data": {
            "application/vnd.google.colaboratory.intrinsic+json": {
              "type": "string"
            },
            "text/plain": [
              "'1.1.5'"
            ]
          },
          "metadata": {},
          "execution_count": 9
        }
      ]
    },
    {
      "cell_type": "markdown",
      "source": [
        "## Metodos de impresión pandas y numpy"
      ],
      "metadata": {
        "id": "VUXAXjCUKqRF"
      }
    },
    {
      "cell_type": "code",
      "source": [
        "pd.options.display.float_format = '{:,.3f}'.format"
      ],
      "metadata": {
        "id": "RGB0LQrtKtIt"
      },
      "execution_count": 11,
      "outputs": []
    },
    {
      "cell_type": "code",
      "source": [
        "np.set_printoptions(precision = 3)"
      ],
      "metadata": {
        "id": "-8dBti28KyJu"
      },
      "execution_count": 12,
      "outputs": []
    },
    {
      "cell_type": "markdown",
      "source": [
        "# Empezamos a leer nuestros dataset"
      ],
      "metadata": {
        "id": "noNHraaNK1AV"
      }
    },
    {
      "cell_type": "code",
      "source": [
        "# empezamos nuestros datos desde las fila número 2 ya que contiene\n",
        "# descripción en cada csv\n",
        "df_agri = pd.read_csv(path_file('API_AG.LND.AGRI.K2_DS2_en_csv_v2_3472200.csv'), header = 2)\n",
        "df_fore = pd.read_csv(path_file('API_AG.LND.FRST.K2_DS2_en_csv_v2_3470755.csv'), header = 2)\n",
        "df_elec = pd.read_csv(path_file('API_EG.USE.ELEC.KH.PC_DS2_en_csv_v2_3475310.csv'), header = 2)\n",
        "df_co2e = pd.read_csv(path_file('API_EN.ATM.CO2E.KT_DS2_en_csv_v2_3470002.csv'), header = 2)\n",
        "df_popu = pd.read_csv(path_file('API_SP.POP.TOTL_DS2_en_csv_v2_3469297.csv'), header = 2)"
      ],
      "metadata": {
        "id": "UCQ0HnuDK3ym"
      },
      "execution_count": 22,
      "outputs": []
    },
    {
      "cell_type": "code",
      "source": [
        ""
      ],
      "metadata": {
        "id": "3M2c-OMoLLc2"
      },
      "execution_count": null,
      "outputs": []
    }
  ]
}